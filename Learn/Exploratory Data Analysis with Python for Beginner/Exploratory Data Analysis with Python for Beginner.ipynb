{
 "cells": [
  {
   "cell_type": "markdown",
   "id": "9221307c",
   "metadata": {},
   "source": [
    "## Memanggil library di Python"
   ]
  },
  {
   "cell_type": "code",
   "execution_count": 12,
   "id": "638044d8",
   "metadata": {},
   "outputs": [],
   "source": [
    "import numpy as np\n",
    "import pandas as pd"
   ]
  },
  {
   "cell_type": "markdown",
   "id": "446dac52",
   "metadata": {},
   "source": [
    "## Tugas Praktek"
   ]
  },
  {
   "cell_type": "code",
   "execution_count": 13,
   "id": "baa4c15b",
   "metadata": {},
   "outputs": [],
   "source": [
    "import pandas as pd\n",
    "order_df = pd.read_csv(\"https://storage.googleapis.com/dqlab-dataset/order.csv\")"
   ]
  },
  {
   "cell_type": "markdown",
   "id": "e774b91b",
   "metadata": {},
   "source": [
    "## Tugas Praktek"
   ]
  },
  {
   "cell_type": "code",
   "execution_count": 14,
   "id": "327852c2",
   "metadata": {},
   "outputs": [
    {
     "name": "stdout",
     "output_type": "stream",
     "text": [
      "(49999, 12)\n"
     ]
    }
   ],
   "source": [
    "import pandas as pd\n",
    "order_df = pd.read_csv(\"https://storage.googleapis.com/dqlab-dataset/order.csv\")\n",
    "print(order_df.shape)"
   ]
  },
  {
   "cell_type": "markdown",
   "id": "47fb22e6",
   "metadata": {},
   "source": [
    "## Tugas Praktek"
   ]
  },
  {
   "cell_type": "code",
   "execution_count": 15,
   "id": "f2abe1dd",
   "metadata": {},
   "outputs": [
    {
     "name": "stdout",
     "output_type": "stream",
     "text": [
      "                           order_id  quantity  \\\n",
      "0  2e7a8482f6fb09756ca50c10d7bfc047         2   \n",
      "1  2e7a8482f6fb09756ca50c10d7bfc047         1   \n",
      "2  e5fa5a7210941f7d56d0208e4e071d35         1   \n",
      "3  3b697a20d9e427646d92567910af6d57         1   \n",
      "4  71303d7e93b399f5bcd537d124c0bcfa         1   \n",
      "5  be5bc2f0da14d8071e2d45451ad119d9         1   \n",
      "6  0a0837a5eee9e7a9ce2b1fa831944d27         1   \n",
      "7  1ff217aa612f6cd7c4255c9bfe931c8b         1   \n",
      "8  22613579f7d11cc59c4347526fc3c79e         1   \n",
      "9  356b492aba2d1a7da886e54e0b6212b7         1   \n",
      "\n",
      "                         product_id    price  \\\n",
      "0  f293394c72c9b5fafd7023301fc21fc2  1489000   \n",
      "1  c1488892604e4ba5cff5b4eb4d595400  1756000   \n",
      "2  f3c2d01a84c947b078e32bbef0718962  1707000   \n",
      "3  3ae08df6bcbfe23586dd431c40bddbb7  3071000   \n",
      "4  d2998d7ced12f83f9b832f33cf6507b6  3833000   \n",
      "5  fd7fd78fd3cbc1b0a6370a7909c0a629  1480000   \n",
      "6  583916a5dae918f5e89baec139141c54  4489000   \n",
      "7  33430c5c1027d812b5c62f778e5ee7f7   822000   \n",
      "8  3ff81cd0e0861e991bb0106c03c113ca  3967000   \n",
      "9  eba7488e1c67729f045ab43fac426f2e  4165000   \n",
      "\n",
      "                          seller_id  freight_value  \\\n",
      "0  1554a68530182680ad5c8b042c3ab563          28000   \n",
      "1  1554a68530182680ad5c8b042c3ab563          45000   \n",
      "2  a425f92c199eb576938df686728acd20         174000   \n",
      "3  522620dcb18a6b31cd7bdf73665113a9         154000   \n",
      "4  25e6ffe976bd75618accfe16cefcbd0d         147000   \n",
      "5  f09b760d23495ac9a7e00d29b769007c         152000   \n",
      "6  3481aa57cd91f9f9d3fa1fa12d9a3bf7          16000   \n",
      "7  4b1eaadf791bdbbad8c4a35b65236d52          58000   \n",
      "8  86bb7c4b535e49a541baf3266b1c95b1          95000   \n",
      "9  620c87c171fb2a6dd6e8bb4dec959fc6          98000   \n",
      "\n",
      "                        customer_id order_status purchase_date  \\\n",
      "0  08c5351a6aca1c1589a38f244edeee9d      shipped    2016-09-05   \n",
      "1  08c5351a6aca1c1589a38f244edeee9d      shipped    2016-09-05   \n",
      "2  683c54fc24d40ee9f8a6fc179fd9856c     canceled    2016-09-05   \n",
      "3  355077684019f7f60a031656bd7262b8    delivered    2016-10-03   \n",
      "4  b106b360fe2ef8849fbbd056f777b4d5     canceled    2016-10-03   \n",
      "5  7ec40b22510fdbea1b08921dd39e63d8    delivered    2016-10-03   \n",
      "6  4f3f778022aefa22b9f9e52d2c47edf3    delivered    2016-10-04   \n",
      "7  b3a9bf200375f53cc5c6991919c356fd    delivered    2016-10-04   \n",
      "8  53cc5d344077104b59d4f6836a90eb0b    delivered    2016-10-04   \n",
      "9  68c74d748a55f9d29e6698f4b01a0df7    delivered    2016-10-04   \n",
      "\n",
      "      payment_type product_category_name  product_weight_gram  \n",
      "0  virtual account               fashion               1800.0  \n",
      "1  virtual account            automotive               1400.0  \n",
      "2         e-wallet                  toys                700.0  \n",
      "3         e-wallet             utilities                300.0  \n",
      "4         e-wallet               fashion                500.0  \n",
      "5         e-wallet           electronics                400.0  \n",
      "6       debit card                  toys               3100.0  \n",
      "7      credit card            automotive                200.0  \n",
      "8       debit card                beauty                600.0  \n",
      "9      credit card            automotive                610.0  \n"
     ]
    }
   ],
   "source": [
    "import pandas as pd\n",
    "order_df = pd.read_csv(\"https://storage.googleapis.com/dqlab-dataset/order.csv\")\n",
    "print(order_df.head(10))"
   ]
  },
  {
   "cell_type": "markdown",
   "id": "d645c925",
   "metadata": {},
   "source": [
    "## Tugas Praktek"
   ]
  },
  {
   "cell_type": "code",
   "execution_count": 17,
   "id": "ce3a8136",
   "metadata": {},
   "outputs": [
    {
     "name": "stdout",
     "output_type": "stream",
     "text": [
      "           quantity         price  freight_value  product_weight_gram\n",
      "count  49999.000000  4.999900e+04   49999.000000         49980.000000\n",
      "mean       1.197484  2.607784e+06  104521.390428          2201.830892\n",
      "std        0.722262  1.388312e+06   55179.844962          3929.896875\n",
      "min        1.000000  2.000000e+05    9000.000000            50.000000\n",
      "25%        1.000000  1.410500e+06   57000.000000           300.000000\n",
      "50%        1.000000  2.610000e+06  104000.000000           800.000000\n",
      "75%        1.000000  3.810000e+06  152000.000000          1850.000000\n",
      "max       21.000000  5.000000e+06  200000.000000         40425.000000\n",
      "2610000.0\n"
     ]
    }
   ],
   "source": [
    "import pandas as pd\n",
    "order_df = pd.read_csv(\"https://storage.googleapis.com/dqlab-dataset/order.csv\")\n",
    "# Quick summary  dari segi kuantitas, harga, freight value, dan weight\n",
    "print(order_df.describe())\n",
    "# Median median dari total pembelian konsumen per transaksi kolom price\n",
    "print(order_df.loc[:, \"price\"].median())"
   ]
  },
  {
   "cell_type": "markdown",
   "id": "d4a02d1f",
   "metadata": {},
   "source": [
    "## Tugas Praktek"
   ]
  },
  {
   "cell_type": "code",
   "execution_count": 22,
   "id": "274a432c",
   "metadata": {},
   "outputs": [
    {
     "data": {
      "text/plain": [
       "<AxesSubplot:>"
      ]
     },
     "execution_count": 22,
     "metadata": {},
     "output_type": "execute_result"
    },
    {
     "data": {
      "image/png": "[encoded data removed]",
      "text/plain": [
       "<Figure size 288x360 with 1 Axes>"
      ]
     },
     "metadata": {
      "needs_background": "light"
     },
     "output_type": "display_data"
    }
   ],
   "source": [
    "import pandas as pd\n",
    "import matplotlib.pyplot as plt\n",
    "\n",
    "order_df = pd.read_csv(\"https://storage.googleapis.com/dqlab-dataset/order.csv\")\n",
    "\n",
    "order_df[\"price\"].hist(bins = 10,\n",
    "                    xlabelsize = 8,\n",
    "                    ylabelsize = 8,\n",
    "                    figsize = (4,5))\n",
    "plt.show()"
   ]
  },
  {
   "cell_type": "markdown",
   "id": "a532a2ad",
   "metadata": {},
   "source": [
    "## Tugas Praktek"
   ]
  },
  {
   "cell_type": "code",
   "execution_count": 25,
   "id": "4940340b",
   "metadata": {},
   "outputs": [
    {
     "data": {
      "text/plain": [
       "3929.896875372737"
      ]
     },
     "execution_count": 25,
     "metadata": {},
     "output_type": "execute_result"
    },
    {
     "data": {
      "text/plain": [
       "15444089.451064402"
      ]
     },
     "execution_count": 25,
     "metadata": {},
     "output_type": "execute_result"
    }
   ],
   "source": [
    "import pandas as pd\n",
    "import matplotlib.pyplot as plt\n",
    "\n",
    "order_df = pd.read_csv(\"https://storage.googleapis.com/dqlab-dataset/order.csv\")\n",
    "\n",
    "order_df.loc[:,\"product_weight_gram\"].std()\n",
    "\n",
    "order_df.loc[:,\"product_weight_gram\"].var()"
   ]
  },
  {
   "cell_type": "markdown",
   "id": "57026155",
   "metadata": {},
   "source": [
    "## Tugas Praktek"
   ]
  },
  {
   "cell_type": "code",
   "execution_count": 3,
   "id": "e7b17783",
   "metadata": {},
   "outputs": [
    {
     "name": "stdout",
     "output_type": "stream",
     "text": [
      "1550.0\n",
      "\n"
     ]
    }
   ],
   "source": [
    "import pandas as pd\n",
    "order_df = pd.read_csv(\"https://storage.googleapis.com/dqlab-dataset/order.csv\")\n",
    "\n",
    "# Hitung Q1\n",
    "Q1 = order_df[\"product_weight_gram\"].quantile(0.25)\n",
    "\n",
    "# Hitung Q3\n",
    "Q3 = order_df[\"product_weight_gram\"].quantile(0.75)\n",
    "\n",
    "IQR = Q3-Q1\n",
    "print(IQR)\n",
    "\n",
    "print()"
   ]
  },
  {
   "cell_type": "markdown",
   "id": "abe39f52",
   "metadata": {},
   "source": [
    "## Tugas Praktek"
   ]
  },
  {
   "cell_type": "code",
   "execution_count": null,
   "id": "2b214a61",
   "metadata": {},
   "outputs": [],
   "source": [
    "import pandas as pd\n",
    "order_df = pd.read_csv(\"https://storage.googleapis.com/dqlab-dataset/order.csv\")\n",
    "\n",
    "order_df.rename(columns = {\"freight_value\" : \"shipping_cost\"}, inplace = True)\n",
    "print(order_df)"
   ]
  },
  {
   "cell_type": "markdown",
   "id": "74ea71a6",
   "metadata": {},
   "source": [
    "## Tugas Praktek"
   ]
  },
  {
   "cell_type": "code",
   "execution_count": 5,
   "id": "4af2ea00",
   "metadata": {},
   "outputs": [
    {
     "name": "stdout",
     "output_type": "stream",
     "text": [
      "payment_type\n",
      "credit card        32503620000\n",
      "debit card         32576542000\n",
      "e-wallet           32346896000\n",
      "virtual account    32959530000\n",
      "Name: price, dtype: int64\n"
     ]
    }
   ],
   "source": [
    "import pandas as pd\n",
    "order_df = pd.read_csv(\"https://storage.googleapis.com/dqlab-dataset/order.csv\")\n",
    "\n",
    "# Hitung rata2 dari  price per payment_type\n",
    "rata_rata = order_df[\"price\"].groupby(order_df[\"payment_type\"]).sum()\n",
    "print(rata_rata)"
   ]
  },
  {
   "cell_type": "markdown",
   "id": "fc2f95f9",
   "metadata": {},
   "source": [
    "## Tugas Praktek"
   ]
  },
  {
   "cell_type": "code",
   "execution_count": 9,
   "id": "699246a7",
   "metadata": {},
   "outputs": [
    {
     "name": "stdout",
     "output_type": "stream",
     "text": [
      "                               order_id  quantity  \\\n",
      "37085  d7b2d3b902441cf3dd12cd125533217d         1   \n",
      "41958  2711089c7fec59d4dc8483e3c6a12fa3         1   \n",
      "3976   f343624eab419250ad81f1ce6be22c93         1   \n",
      "21072  c8947a583ab9791a5a9d02384cb84302         1   \n",
      "47074  f6134169ca6f0cdfbe6458ebb5731613         1   \n",
      "...                                 ...       ...   \n",
      "33786  0d9e86e02c1a823b20c03ea29d616607         1   \n",
      "42166  54220fcc516cabe9ec84b210c0765ef2         1   \n",
      "31745  59a19c83ff825948739dd1601cc107b6         1   \n",
      "42452  9960ee97c2f8d801a200a01893b3942f         1   \n",
      "11939  64619901c45fba79638d666058bf6be6         1   \n",
      "\n",
      "                             product_id    price  \\\n",
      "37085  35afc973633aaeb6b877ff57b2793310  5000000   \n",
      "41958  7c1bd920dbdf22470b68bde975dd3ccf  5000000   \n",
      "3976   777d2e438a1b645f3aec9bd57e92672c  5000000   \n",
      "21072  f8cfb63e323be2e1c4172f255d61843d  5000000   \n",
      "47074  2ea92fab7565c4fe9f91a5e4e1756258  5000000   \n",
      "...                                 ...      ...   \n",
      "33786  f93213a23c50edc16c27b96333f734dc   200000   \n",
      "42166  1166bc797ddf5fb009c376d133f61204   200000   \n",
      "31745  eb38a7604070a2b8465101ed53cba72b   200000   \n",
      "42452  db5efde3ad0cc579b130d71c4b2db522   200000   \n",
      "11939  06c6e01186af8b98ee1fc9e01f9471e9   200000   \n",
      "\n",
      "                              seller_id  freight_value  \\\n",
      "37085  4a3ca9315b744ce9f8e9374361493884         118000   \n",
      "41958  cc419e0650a3c5ba77189a1882b7556a          31000   \n",
      "3976   4a3ca9315b744ce9f8e9374361493884         101000   \n",
      "21072  4a3ca9315b744ce9f8e9374361493884         184000   \n",
      "47074  3d871de0142ce09b7081e2b9d1733cb1         196000   \n",
      "...                                 ...            ...   \n",
      "33786  46dc3b2cc0980fb8ec44634e21d2718e         141000   \n",
      "42166  5cbbd5a299cab112b7bf23862255e43e         175000   \n",
      "31745  e6a69c4a27dfdd98ffe5aa757ad744bc         112000   \n",
      "42452  4869f7a5dfa277a7dca6462dcf3b52b2          26000   \n",
      "11939  fc906263ca5083d09dce42fe02247800          98000   \n",
      "\n",
      "                            customer_id order_status purchase_date  \\\n",
      "37085  217344c7c334e16c8e76551b4b240c1d    delivered    2017-10-31   \n",
      "41958  0ef59d9bb071def3dbf7e7b055965e95    delivered    2017-11-24   \n",
      "3976   3fc0d940852ab274e532e80b1c1d5c2f    delivered    2017-03-07   \n",
      "21072  57c047e791e69bef0af220b0a165a22d    delivered    2017-07-27   \n",
      "47074  cbfdcc896d6ebc83c21fdcf4f4762efc    delivered    2017-12-04   \n",
      "...                                 ...          ...           ...   \n",
      "33786  edaad9e07395713e9f5a2124f6c846a1    delivered    2017-10-13   \n",
      "42166  24e7dc2ff8c07126358af519732b8558    delivered    2017-11-24   \n",
      "31745  2bf857ee40b763708fe19cf877cac511    delivered    2017-10-01   \n",
      "42452  54af40597a8931fea3fbb2b37656fc8d    delivered    2017-11-24   \n",
      "11939  3a1dda1ede23d7e71753e80d7f22c2c4    delivered    2017-05-21   \n",
      "\n",
      "          payment_type product_category_name  product_weight_gram  \n",
      "37085       debit card                beauty               1825.0  \n",
      "41958         e-wallet               fashion                200.0  \n",
      "3976        debit card                gadget                950.0  \n",
      "21072      credit card                beauty                550.0  \n",
      "47074  virtual account                gadget              10600.0  \n",
      "...                ...                   ...                  ...  \n",
      "33786       debit card            automotive               7550.0  \n",
      "42166         e-wallet                gadget               1100.0  \n",
      "31745         e-wallet                beauty                550.0  \n",
      "42452      credit card            automotive               6663.0  \n",
      "11939  virtual account            automotive                200.0  \n",
      "\n",
      "[49999 rows x 12 columns]\n"
     ]
    }
   ],
   "source": [
    "import pandas as pd\n",
    "order_df = pd.read_csv(\"https://storage.googleapis.com/dqlab-dataset/order.csv\")\n",
    "\n",
    "# Hitung harga maksimum pembelian customer\n",
    "sort_harga = order_df.sort_values(by=\"price\", ascending = False)\n",
    "print(sort_harga)"
   ]
  },
  {
   "cell_type": "markdown",
   "id": "e8d2e769",
   "metadata": {},
   "source": [
    "## Tugas dari Andra"
   ]
  },
  {
   "cell_type": "code",
   "execution_count": 19,
   "id": "fe6cf528",
   "metadata": {},
   "outputs": [
    {
     "name": "stdout",
     "output_type": "stream",
     "text": [
      "payment_type\n",
      "credit card        2587500\n",
      "debit card         2621500\n",
      "e-wallet           2589000\n",
      "virtual account    2643000\n",
      "Name: price, dtype: int64\n",
      "                               order_id  quantity  \\\n",
      "23829  7d63cb1d349e7bd0ee1edcc61ea71077         1   \n",
      "12011  00c9f7d4b0e87781465e562dc109f6aa         1   \n",
      "10984  69013d19f8db4cd7dc9f3b5c2564a96f         1   \n",
      "29722  f32c4d2b078bc5a354f4c1184522b5ff         1   \n",
      "15259  c8eab0ccabe8cdfc2afce66c1c554ae2         1   \n",
      "...                                 ...       ...   \n",
      "2891   1d0e8770169496e47622b6cbc0d10bda         1   \n",
      "36815  4bff82a994068f564e54b52b08ef4512         2   \n",
      "8175   e6b1fa22555c3064f984ebeb8a88de77         1   \n",
      "4034   8ac2728285fd4228f35d907768b5288a         4   \n",
      "32994  0286e258217733541e80588e29c208c1         1   \n",
      "\n",
      "                             product_id    price  \\\n",
      "23829  75d6b6963340c6063f7f4cfcccfe6a30  1472000   \n",
      "12011  1a0d662b65b5ef08796501b064c853af  4543000   \n",
      "10984  10d196ec072e2d8382c7ec9c942d7ea8  4137000   \n",
      "29722  0f789be671fe3bd93cabfbb4a710f282  4802000   \n",
      "15259  800f75019492a0d9ffb2483ae65b59f1  4078000   \n",
      "...                                 ...      ...   \n",
      "2891   3fc0f58c51fcd02161542e0320c4dbe7  4135000   \n",
      "36815  24d8da2d499efba175b1092826b7e390  2879000   \n",
      "8175   6fd82d8f842424334fedf31190e54d24  2947000   \n",
      "4034   fa94f25a73969e3a25d52706e246dfcc   967000   \n",
      "32994  3c4223262d31fa35043380da246fb0fa  3337000   \n",
      "\n",
      "                              seller_id  shipping_cost  \\\n",
      "23829  cc419e0650a3c5ba77189a1882b7556a         200000   \n",
      "12011  2e0dba2da448400b1c11d7b4b22f32a4         200000   \n",
      "10984  d12c926d74ceff0a90a21184466ce161         200000   \n",
      "29722  259f7b5e6e482c230e5bfaa670b6bb8f         200000   \n",
      "15259  efcd8d2104f1a05d028af7bad20d974b         200000   \n",
      "...                                 ...            ...   \n",
      "2891   82e0a475a88cc9595229d8029273f045           9000   \n",
      "36815  d12c926d74ceff0a90a21184466ce161           9000   \n",
      "8175   6560211a19b47992c3666cc44a7e94c0           9000   \n",
      "4034   004c9cd9d87a3c30c522c48c4fc07416           9000   \n",
      "32994  cb3dd9ce66268c7a3ca7241ac70ab58c           9000   \n",
      "\n",
      "                            customer_id order_status purchase_date  \\\n",
      "23829  484711e3d14ac75fb874e949b3a28395    delivered    2017-08-14   \n",
      "12011  cea80f9af87104810bd7fa9698f69d29    delivered    2017-05-22   \n",
      "10984  9cf423929ed7f738fd0a0e88607a79fd    delivered    2017-05-15   \n",
      "29722  5a1523d32a6d1b323a05895f5164655d    delivered    2017-09-18   \n",
      "15259  2339ab3abbeebe72f2782a01c87a9bc0    delivered    2017-06-14   \n",
      "...                                 ...          ...           ...   \n",
      "2891   e3cfff24939005d30dd3a046848227d6    delivered    2017-02-22   \n",
      "36815  2e998a151ac7a977d4a7e806346e0092    delivered    2017-10-30   \n",
      "8175   02d6ca625564571402a933db8fe814f0    delivered    2017-04-21   \n",
      "4034   6b5e281c1563241783deb3a2636daa28    delivered    2017-03-08   \n",
      "32994  010583f85dd55d32a6db1068f58ca6f1    delivered    2017-10-09   \n",
      "\n",
      "          payment_type product_category_name  product_weight_gram  \n",
      "23829      credit card                gadget                400.0  \n",
      "12011         e-wallet                  toys                900.0  \n",
      "10984      credit card             utilities                250.0  \n",
      "29722      credit card                  toys                450.0  \n",
      "15259       debit card                sports                100.0  \n",
      "...                ...                   ...                  ...  \n",
      "2891        debit card               fashion                900.0  \n",
      "36815         e-wallet               fashion                150.0  \n",
      "8175   virtual account           electronics                250.0  \n",
      "4034   virtual account               fashion               1700.0  \n",
      "32994  virtual account             utilities                700.0  \n",
      "\n",
      "[49999 rows x 12 columns]\n",
      "product_category_name\n",
      "beauty         2120.088396\n",
      "automotive     2129.559039\n",
      "electronics    2144.751191\n",
      "toys           2203.863643\n",
      "gadget         2229.632942\n",
      "fashion        2246.516901\n",
      "sports         2251.879909\n",
      "utilities      2291.029868\n",
      "Name: product_weight_gram, dtype: float64\n",
      "product_category_name\n",
      "automotive     3799.884166\n",
      "beauty         3837.474929\n",
      "electronics    3839.271768\n",
      "fashion        3858.885213\n",
      "gadget         3955.792741\n",
      "toys           3956.814749\n",
      "sports         4032.850044\n",
      "utilities      4150.509909\n",
      "Name: product_weight_gram, dtype: float64\n"
     ]
    },
    {
     "data": {
      "text/plain": [
       "<AxesSubplot:>"
      ]
     },
     "execution_count": 19,
     "metadata": {},
     "output_type": "execute_result"
    },
    {
     "data": {
      "image/png": "[encoded data removed]",
      "text/plain": [
       "<Figure size 288x360 with 1 Axes>"
      ]
     },
     "metadata": {
      "needs_background": "light"
     },
     "output_type": "display_data"
    }
   ],
   "source": [
    "import pandas as pd\n",
    "import matplotlib.pyplot as plt\n",
    "order_df = pd.read_csv(\"https://storage.googleapis.com/dqlab-dataset/order.csv\")\n",
    "\n",
    "# Median price yang dibayar customer masing2 metode pembayaran\n",
    "median_price = order_df[\"price\"].groupby([order_df[\"payment_type\"]]).median()\n",
    "print(median_price)\n",
    "\n",
    "# Ubah freight_value -> shipping cost\n",
    "# Shipping cost termahal dari data penjualan menggunakan sort\n",
    "order_df.rename(columns = {\"freight_value\" : \"shipping_cost\"}, inplace = True)\n",
    "sort_value = order_df.sort_values(by = \"shipping_cost\", ascending = 0)\n",
    "print(sort_value)\n",
    "\n",
    "# Untuk product_category_name, brp rata2 weight produk\n",
    "# dan standar deviasi terkecil dari weight tsb \n",
    "mean_value = order_df[\"product_weight_gram\"].groupby(order_df[\"product_category_name\"]).mean()\n",
    "print(mean_value.sort_values())\n",
    "std_value = order_df[\"product_weight_gram\"].groupby(order_df[\"product_category_name\"]).std()\n",
    "print(std_value.sort_values())\n",
    "\n",
    "# Buat Histogram quantity penjualan\n",
    "# untuk melihat persebaran quantity penjualan \n",
    "# bins = 5 , figsize = (4,5)\n",
    "order_df[\"quantity\"].hist(bins = 5,\n",
    "                      figsize = (4,5))\n",
    "plt.show()"
   ]
  }
 ],
 "metadata": {
  "kernelspec": {
   "display_name": "Python 3",
   "language": "python",
   "name": "python3"
  },
  "language_info": {
   "codemirror_mode": {
    "name": "ipython",
    "version": 3
   },
   "file_extension": ".py",
   "mimetype": "text/x-python",
   "name": "python",
   "nbconvert_exporter": "python",
   "pygments_lexer": "ipython3",
   "version": "3.8.8"
  }
 },
 "nbformat": 4,
 "nbformat_minor": 5
}
